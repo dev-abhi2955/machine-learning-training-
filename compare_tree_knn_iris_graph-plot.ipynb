{
 "cells": [
  {
   "cell_type": "code",
   "execution_count": 9,
   "metadata": {},
   "outputs": [
    {
     "data": {
      "image/png": "[encoded data removed]",
      "text/plain": [
       "<Figure size 432x288 with 1 Axes>"
      ]
     },
     "metadata": {},
     "output_type": "display_data"
    }
   ],
   "source": [
    "#!/usr/bin/python3\n",
    "from sklearn.neighbors import KNeighborsClassifier\n",
    "from sklearn.datasets import load_iris\n",
    "from sklearn.model_selection import train_test_split\n",
    "from sklearn import tree\n",
    "from sklearn.metrics import accuracy_score\n",
    "import matplotlib.pyplot as gplot\n",
    "# here \"_dsclf\"-prefix is used for decision classifier tree variables and \n",
    "# \"_knnclf\"-prefix is used for knn algo's variables\n",
    "# loading iris data \n",
    "iris = load_iris()\n",
    "# training and testing data of desicion tree classifier\n",
    "train_iris_dsclf,test_iris_dsclf,train_target_dsclf,test_target_dsclf=train_test_split(iris.data,iris.target,test_size=0.1)\n",
    "# calling decision tree classifier \n",
    "dsclf=tree.DecisionTreeClassifier()\n",
    "#train data with decision tree classifier \n",
    "trained_dsclf = dsclf.fit(train_iris_dsclf,train_target_dsclf)\n",
    "# testing data \n",
    "output_dsclf=trained_dsclf.predict(test_iris_dsclf)\n",
    "accuracy_dsclf = accuracy_score(test_target_dsclf,output_dsclf)\n",
    "##\n",
    "#now traning and testing of knn algo for iris\n",
    "train_iris_knnclf,test_iris_knnclf,train_target_knnclf,test_target_knnclf=train_test_split(iris.data,iris.target,test_size=0.1)\n",
    "# calling KNN classifier \n",
    "knnclf=KNeighborsClassifier(n_neighbors=5)\n",
    "# trainig data \n",
    "trained_knnclf=knnclf.fit(train_iris_knnclf,train_target_knnclf)\n",
    "#testing results \n",
    "output_knnclf=trained_knnclf.predict(test_iris_knnclf)\n",
    "accuracy_knnclf = accuracy_score(test_target_knnclf,output_knnclf)\n",
    "# plotting graph\n",
    "accuracy_per=[accuracy_dsclf,accuracy_knnclf]\n",
    "algo_name=[\"decision tree\",\"knn algo\"]\n",
    "gplot.xlabel(\"algorithms\")\n",
    "gplot.ylabel(\"accuracy %\")\n",
    "gplot.bar(algo_name,accuracy_per)\n",
    "gplot.show()"
   ]
  },
  {
   "cell_type": "code",
   "execution_count": null,
   "metadata": {},
   "outputs": [],
   "source": []
  },
  {
   "cell_type": "code",
   "execution_count": null,
   "metadata": {},
   "outputs": [],
   "source": []
  }
 ],
 "metadata": {
  "kernelspec": {
   "display_name": "Python 3",
   "language": "python",
   "name": "python3"
  },
  "language_info": {
   "codemirror_mode": {
    "name": "ipython",
    "version": 3
   },
   "file_extension": ".py",
   "mimetype": "text/x-python",
   "name": "python",
   "nbconvert_exporter": "python",
   "pygments_lexer": "ipython3",
   "version": "3.5.2"
  }
 },
 "nbformat": 4,
 "nbformat_minor": 2
}
