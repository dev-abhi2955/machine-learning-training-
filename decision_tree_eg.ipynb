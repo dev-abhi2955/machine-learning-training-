{
 "cells": [
  {
   "cell_type": "code",
   "execution_count": 13,
   "metadata": {},
   "outputs": [
    {
     "name": "stdout",
     "output_type": "stream",
     "text": [
      "[0 0 0 2 2 0 0 2 0 2 1 1 2 0 1]\n",
      "[0 0 0 2 2 0 0 2 0 2 1 1 2 0 2]\n",
      "result set accuracy is 93.33333333333333 %\n"
     ]
    }
   ],
   "source": [
    "#!/usr/bin/python3\n",
    "from sklearn import tree\n",
    "from sklearn.datasets import load_iris\n",
    "#loading iris dataset \n",
    "iris = load_iris()\n",
    "#splitting data into test and training data sets \n",
    "from sklearn.model_selection import train_test_split\n",
    "train_iris,test_iris,train_target,test_target=train_test_split(iris.data,iris.target,test_size=0.1)\n",
    "# calling decision tree classifier \n",
    "dsclf=tree.DecisionTreeClassifier()\n",
    "#train data with decision tree classifier \n",
    "trained = dsclf.fit(train_iris,train_target)\n",
    "# testing data \n",
    "output=trained.predict(test_iris)\n",
    "#checking accuracy \n",
    "from sklearn.metrics import accuracy_score\n",
    "print(output)\n",
    "print(test_target)\n",
    "check = accuracy_score(test_target,output)\n",
    "print (\"result set accuracy is\",check*100,\"%\")"
   ]
  },
  {
   "cell_type": "code",
   "execution_count": null,
   "metadata": {},
   "outputs": [],
   "source": []
  },
  {
   "cell_type": "code",
   "execution_count": null,
   "metadata": {},
   "outputs": [],
   "source": []
  },
  {
   "cell_type": "code",
   "execution_count": null,
   "metadata": {},
   "outputs": [],
   "source": []
  }
 ],
 "metadata": {
  "kernelspec": {
   "display_name": "Python 3",
   "language": "python",
   "name": "python3"
  },
  "language_info": {
   "codemirror_mode": {
    "name": "ipython",
    "version": 3
   },
   "file_extension": ".py",
   "mimetype": "text/x-python",
   "name": "python",
   "nbconvert_exporter": "python",
   "pygments_lexer": "ipython3",
   "version": "3.5.2"
  }
 },
 "nbformat": 4,
 "nbformat_minor": 2
}
