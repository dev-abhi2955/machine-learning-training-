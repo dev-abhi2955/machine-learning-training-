{
 "cells": [
  {
   "cell_type": "code",
   "execution_count": 1,
   "metadata": {},
   "outputs": [
    {
     "name": "stdout",
     "output_type": "stream",
     "text": [
      "[2 2 2 1 0 2 2 2 1 0 1 1 2 0 1]\n",
      "[2 2 2 1 0 2 2 2 1 0 1 1 2 0 1]\n"
     ]
    }
   ],
   "source": [
    "#!/usr/bin/python3\n",
    "from sklearn.neighbors import KNeighborsClassifier\n",
    "from sklearn.datasets import load_iris\n",
    "from sklearn.model_selection import train_test_split\n",
    "# loading iris dataset into \"iris\" variable\n",
    "iris = load_iris()\n",
    "# seprating variables for testing and training\n",
    "train_iris,test_iris,train_target,test_target=train_test_split(iris.data,iris.target,test_size=0.1)\n",
    "# calling KNN classifier \n",
    "knnclf=KNeighborsClassifier(n_neighbors=3)\n",
    "# trainig data \n",
    "trained=knnclf.fit(train_iris,train_target)\n",
    "#testing results \n",
    "output=trained.predict(test_iris)\n",
    "print(output)\n",
    "print(test_target)"
   ]
  },
  {
   "cell_type": "code",
   "execution_count": null,
   "metadata": {},
   "outputs": [],
   "source": []
  }
 ],
 "metadata": {
  "kernelspec": {
   "display_name": "Python 3",
   "language": "python",
   "name": "python3"
  },
  "language_info": {
   "codemirror_mode": {
    "name": "ipython",
    "version": 3
   },
   "file_extension": ".py",
   "mimetype": "text/x-python",
   "name": "python",
   "nbconvert_exporter": "python",
   "pygments_lexer": "ipython3",
   "version": "3.5.2"
  }
 },
 "nbformat": 4,
 "nbformat_minor": 2
}
