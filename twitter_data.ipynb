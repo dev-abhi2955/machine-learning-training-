{
 "cells": [
  {
   "cell_type": "code",
   "execution_count": 1,
   "metadata": {},
   "outputs": [
    {
     "name": "stdout",
     "output_type": "stream",
     "text": [
      "input here to search :india\n",
      "RT @abpnewstv: Bizzare: Rats destroy currency worth Rs 12.38 lakh in #Assam ATM \n",
      "https://t.co/2dCQtq7nYz\n",
      "Sentiment(polarity=0.04999999999999999, subjectivity=0.05)\n",
      "RT @DilliDurAst: India has overcome Congress legacy, can no more use it as excuse: NITI Aayog VC Rajiv Kumar\n",
      "https://t.co/gL0y6UDesj\n",
      "Sentiment(polarity=-0.15, subjectivity=0.275)\n",
      "looking forward to buy the @Nissan_India from the Terrano suv at an affordable rate of interest of 3.99% for 4 year… https://t.co/9yi3jVFBCt\n",
      "Sentiment(polarity=0.0, subjectivity=0.0)\n",
      "RT @IndiaIncorp: \"I'm delighted that ppl like @manojladwa are taking the lead in building bridges of hope, bridges of optimum and most impo…\n",
      "Sentiment(polarity=0.6333333333333333, subjectivity=0.7000000000000001)\n",
      "RT @narendramodi: India’s hardworking farmers are India's pride. Tomorrow at 9:30 AM, I invite you to join an interaction with our farmers.…\n",
      "Sentiment(polarity=0.0, subjectivity=0.0)\n",
      "RT @abpnewstv: Bizzare: Rats destroy currency worth Rs 12.38 lakh in #Assam ATM \n",
      "https://t.co/2dCQtq7nYz\n",
      "Sentiment(polarity=0.04999999999999999, subjectivity=0.05)\n",
      "RT @MajorPoonia: Sir @digvijaya_28 ,does terrorism has religion ?🤔\n",
      "So which organisation brutally murdered &amp; terrorised innocent Sikhs in 1…\n",
      "Sentiment(polarity=-0.1875, subjectivity=0.85)\n",
      "RT @geetv79: This man Qasim was Lynched to Death👇\n",
      "All Because he Shooed Away Stray Cows Which Entered his Farm \n",
      "\n",
      "This Hate-Filled Savage Br…\n",
      "Sentiment(polarity=0.0, subjectivity=0.0)\n",
      "#Haut Monde Mrs India Worldwide finalist 2018\n",
      "#Goslowbutdontstop\n",
      "#Motivation \n",
      "#Gym https://t.co/ppqfJM9xux\n",
      "Sentiment(polarity=0.0, subjectivity=0.0)\n",
      "RT @AartiTikoo: When #GauriLankesh was killed, almost everyone at the condemnation meet at Press Club in New Delhi bashed Hindu fascistic f…\n",
      "Sentiment(polarity=-0.03181818181818183, subjectivity=0.22727272727272727)\n",
      "done\n"
     ]
    }
   ],
   "source": [
    "#!/usr/bin/python3\n",
    "import tweepy\n",
    "from textblob import TextBlob\n",
    "#creating cunsumer key and consumer secret key to authenticate twitter account \n",
    "consumer_key='dkHBeWTqliqIZ2ZESNBNFWhMe'\n",
    "consumer_secret='srHBNMMIBb7TlbefV4DtI9FnLtUjiPq9RY9nyc1pdQmLHlicjP'\n",
    "#creating access key and acess secret \n",
    "access_key='1006874124029870081-hXUyhpXYGlFEEkzeTgd794t1OlXjuP'\n",
    "access_secret='IeKm95aqWYTSs2LU5NCwbYF3u5xVvsDfviHZfY44hlxR5'\n",
    "#connecting for authentication using tweepy.OAuthHandler() method\n",
    "auth=tweepy.OAuthHandler(consumer_key,consumer_secret)\n",
    "#here auth is like session variable\n",
    "auth.set_access_token(access_key,access_secret)\n",
    "# connecting with API using tweepy.API() method \n",
    "connect= tweepy.API(auth)\n",
    "#getting input from user\n",
    "input_data=input(\"input here to search :\")\n",
    "# getting data on any subject\n",
    "# we use count is used for no of (tweets)\n",
    "get_data=connect.search(input_data,count=10)\n",
    "for i in get_data:\n",
    "    analysis=TextBlob(i.text)\n",
    "    print(analysis)\n",
    "    print(analysis.sentiment)\n",
    "print (\"done\")"
   ]
  },
  {
   "cell_type": "code",
   "execution_count": null,
   "metadata": {},
   "outputs": [],
   "source": []
  }
 ],
 "metadata": {
  "kernelspec": {
   "display_name": "Python 3",
   "language": "python",
   "name": "python3"
  },
  "language_info": {
   "codemirror_mode": {
    "name": "ipython",
    "version": 3
   },
   "file_extension": ".py",
   "mimetype": "text/x-python",
   "name": "python",
   "nbconvert_exporter": "python",
   "pygments_lexer": "ipython3",
   "version": "3.5.2"
  }
 },
 "nbformat": 4,
 "nbformat_minor": 2
}
